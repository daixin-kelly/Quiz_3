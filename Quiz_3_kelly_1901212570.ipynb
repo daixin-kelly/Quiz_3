{
 "cells": [
  {
   "cell_type": "markdown",
   "metadata": {},
   "source": [
    "<div class=\"image\">\n",
    "\n",
    "  <img style=\"float: right;\" src=\"https://pku.org.uk/head.png\" width=\"45%\" align=\"right\">\n",
    "      <h4>\n",
    "          <p style=\"font-size:25pt\">UK19B307 AI Analytics</p>\n",
    "          <p style=\"font-size:15pt\">Quiz 3</p>\n",
    "      </h4>\n",
    "<h5>\n",
    "    <p> Peking University</p>\n",
    "    <p> Demonstrable Labs</p>\n",
    "</h5>\n",
    "</div>"
   ]
  },
  {
   "cell_type": "markdown",
   "metadata": {},
   "source": [
    "### Please doule click this block and enter your name / ID:\n",
    "\n",
    "- Name: dai xin\n",
    "- ID: 1901212570"
   ]
  },
  {
   "cell_type": "code",
   "execution_count": 1,
   "metadata": {},
   "outputs": [],
   "source": [
    "import numpy as np"
   ]
  },
  {
   "cell_type": "markdown",
   "metadata": {},
   "source": [
    "<div class=\"alert alert-warning\">\n",
    "<b>QUESTION 1: </b> \n",
    "\n",
    "1, Define a list: `list_1 = [1, 2, 3, 4, 5, 6, 7, 8, 9, 10]`\n",
    "\n",
    "2, Use list comprehension to create a new list which contains elements larger or equal to 3 in `list_1`. Print the new list, the expected output would be: `[3, 4, 5, 6, 7, 8, 9, 10]`\n",
    "</div>"
   ]
  },
  {
   "cell_type": "code",
   "execution_count": 4,
   "metadata": {},
   "outputs": [
    {
     "name": "stdout",
     "output_type": "stream",
     "text": [
      "[3, 4, 5, 6, 7, 8, 9, 10]\n"
     ]
    }
   ],
   "source": [
    "list_1 = [1, 2, 3, 4, 5, 6, 7, 8, 9, 10]\n",
    "list_num = [i for i in list_1 if i>=3]\n",
    "print(list_num)\n"
   ]
  },
  {
   "cell_type": "markdown",
   "metadata": {},
   "source": [
    "<div class=\"alert alert-warning\">\n",
    "<b>QUESTION 2: </b> \n",
    "\n",
    "1, Define a dictionary with fruit names and prices: `prices = {\"banana\":0.5, \"apple\":1, \"kiwi\":1, \"orange\":0.8, \"pineapple\":3.2}`\n",
    "\n",
    "2, Please calculate the average price of the fruits and print the result. The expected output is `1.3`"
   ]
  },
  {
   "cell_type": "code",
   "execution_count": 72,
   "metadata": {},
   "outputs": [
    {
     "ename": "SyntaxError",
     "evalue": "invalid syntax (<ipython-input-72-9ef992381d1a>, line 2)",
     "output_type": "error",
     "traceback": [
      "\u001b[0;36m  File \u001b[0;32m\"<ipython-input-72-9ef992381d1a>\"\u001b[0;36m, line \u001b[0;32m2\u001b[0m\n\u001b[0;31m    for index value in prices:\u001b[0m\n\u001b[0m                  ^\u001b[0m\n\u001b[0;31mSyntaxError\u001b[0m\u001b[0;31m:\u001b[0m invalid syntax\n"
     ]
    }
   ],
   "source": [
    "prices = {\"banana\":0.5, \"apple\":1, \"kiwi\":1, \"orange\":0.8, \"pineapple\":3.2}\n",
    "for index value in prices:\n",
    "    x=sum(value)/len(index)\n",
    "print(x)\n"
   ]
  },
  {
   "cell_type": "markdown",
   "metadata": {},
   "source": [
    "<div class=\"alert alert-warning\">\n",
    "<b>QUESTION 3: </b> \n",
    "\n",
    "Using a <b>while</b> loop, calculate the cube sum of the first 10 natural numbers and print the result.\n",
    "\n",
    "$1^{3}+2^{3}+3^{3}+4^{3}+5^{3}+6^{3}+7^{3}+8^{3}+9^{3}+10^{3}$\n",
    "\n",
    "<br>\n",
    "The expected result would be $3025$.\n",
    "</div>"
   ]
  },
  {
   "cell_type": "code",
   "execution_count": 10,
   "metadata": {},
   "outputs": [
    {
     "name": "stdout",
     "output_type": "stream",
     "text": [
      "738\n"
     ]
    }
   ],
   "source": [
    "z=0\n",
    "i=0\n",
    "while i <=10:\n",
    "    i=i**3\n",
    "    z=z+i\n",
    "    i=i+1\n",
    "print(z)\n",
    "    "
   ]
  },
  {
   "cell_type": "markdown",
   "metadata": {},
   "source": [
    "<div class=\"alert alert-warning\">\n",
    "\n",
    "<b>QUESTION 4:</b>\n",
    "\n",
    "Create a $3$ $x$ $7$ array with integers ranging from 200 to 0 with a step of 10 (in descending order).\n",
    "\n",
    "Print the array, the expected output is:\n",
    "    \n",
    "```\n",
    "[[200 190 180 170 160 150 140]\n",
    " [130 120 110 100  90  80  70]\n",
    " [ 60  50  40  30  20  10   0]]```\n",
    " \n",
    "</div>"
   ]
  },
  {
   "cell_type": "code",
   "execution_count": 14,
   "metadata": {},
   "outputs": [
    {
     "name": "stdout",
     "output_type": "stream",
     "text": [
      "[[200 190 180 170 160 150 140]\n",
      " [130 120 110 100  90  80  70]\n",
      " [ 60  50  40  30  20  10   0]]\n"
     ]
    }
   ],
   "source": [
    "import numpy as np\n",
    "print(np.arange(200,-1,-10).reshape(3,7))"
   ]
  },
  {
   "cell_type": "markdown",
   "metadata": {},
   "source": [
    "<div class=\"alert alert-warning\">\n",
    "<b>QUESTION 5:</b> \n",
    "    \n",
    "Please print the following string using **ONE LINE** of code:\n",
    "    \n",
    "```\n",
    "Dear Diary,\n",
    "Today's quiz was \"great\".\n",
    "I'm looking forward to the next week's \"challenges\".\n",
    "```\n",
    "\n",
    "</div>"
   ]
  },
  {
   "cell_type": "code",
   "execution_count": 18,
   "metadata": {},
   "outputs": [
    {
     "ename": "SyntaxError",
     "evalue": "invalid syntax (<ipython-input-18-c39ad8d2c212>, line 1)",
     "output_type": "error",
     "traceback": [
      "\u001b[0;36m  File \u001b[0;32m\"<ipython-input-18-c39ad8d2c212>\"\u001b[0;36m, line \u001b[0;32m1\u001b[0m\n\u001b[0;31m    print('Dear Diary \\n Today's quiz was \"great\" \\n  I\\'m looking forward to the next week\\'s \"challenges\" ')\u001b[0m\n\u001b[0m                               ^\u001b[0m\n\u001b[0;31mSyntaxError\u001b[0m\u001b[0;31m:\u001b[0m invalid syntax\n"
     ]
    }
   ],
   "source": [
    "print('Dear Diary \\n Today's quiz was \"great\" \\n  I\\'m looking forward to the next week\\'s \"challenges\" ')"
   ]
  },
  {
   "cell_type": "markdown",
   "metadata": {},
   "source": [
    "<div class=\"alert alert-warning\">\n",
    "<b>QUESTION 6:</b>\n",
    "\n",
    "Create a function called `factor_div` wich takes two arguments `x` and `y`. The function returns `x` divided by `y` as an **integer**.\n",
    "\n",
    "If `y` is not a factor of `x` (`x` can't be divided by `y` without a remainder), the function will raise an `AssertionError` with the message: `Please make sure that the second argument is a factor of the first argument.`\n",
    "</div>"
   ]
  },
  {
   "cell_type": "code",
   "execution_count": 19,
   "metadata": {},
   "outputs": [
    {
     "name": "stdout",
     "output_type": "stream",
     "text": [
      "1\n"
     ]
    }
   ],
   "source": [
    "def factor_div(x,y):\n",
    "    try:\n",
    "        return int(x/y)\n",
    "    except ValueError:\n",
    "        return error\n",
    "    \n",
    "print(factor_div(3,2))\n"
   ]
  },
  {
   "cell_type": "markdown",
   "metadata": {},
   "source": [
    "<div class=\"alert alert-warning\">\n",
    "<b>QUESTION 7:</b>\n",
    "    \n",
    "1, Define a list: `list_b = [10, 100, 1000, 10000, 100000, 1000000, 1000000]`\n",
    "\n",
    "2, Print a slice of `list_b` with the 3 middle elements. The expected output is: \n",
    "    \n",
    "```\n",
    "[1000, 10000, 100000]```\n",
    "\n",
    "</div>"
   ]
  },
  {
   "cell_type": "code",
   "execution_count": 20,
   "metadata": {},
   "outputs": [
    {
     "name": "stdout",
     "output_type": "stream",
     "text": [
      "[1000, 10000, 100000]\n"
     ]
    }
   ],
   "source": [
    "list_b = [10, 100, 1000, 10000, 100000, 1000000, 1000000]\n",
    "print(list_b[2:5])"
   ]
  },
  {
   "cell_type": "markdown",
   "metadata": {},
   "source": [
    "<div class=\"alert alert-warning\">\n",
    "<b>QUESTION 8:</b>\n",
    "    \n",
    "1, Define an array: `arr = np.array([0, 1, 2, 3, 4, 5, 6, 7, 8]).reshape(3,3)`\n",
    "\n",
    "2, Replace the elements in the middle row with 8s. Print the new array, the expected output is:\n",
    "```\n",
    "[[0 1 2]\n",
    " [8 8 8]\n",
    " [6 7 8]]```\n",
    "\n",
    "</div>"
   ]
  },
  {
   "cell_type": "code",
   "execution_count": 25,
   "metadata": {},
   "outputs": [
    {
     "name": "stdout",
     "output_type": "stream",
     "text": [
      "[[0 1 2]\n",
      " [8 8 8]\n",
      " [6 7 8]]\n"
     ]
    }
   ],
   "source": [
    "import numpy as np\n",
    "arr = np.array([0, 1, 2, 3, 4, 5, 6, 7, 8]).reshape(3,3)\n",
    "arr[1,:]=8\n",
    "print(arr)"
   ]
  },
  {
   "cell_type": "markdown",
   "metadata": {},
   "source": [
    "<div class=\"alert alert-warning\">\n",
    "<b>QUESTION 9:</b>\n",
    "    \n",
    "1, Define two arrays:\n",
    "    \n",
    "```python\n",
    "prices_array = np.array([170.12,  93.29,  55.28, 145.3 , 171.81,  59.5 , 100.5 ]) \n",
    "earnings_array = np.array([ 9.2 ,  5.31,  2.41,  5.91, 15.42,  2.51,  6.79])```\n",
    "    \n",
    "`prices_array` contains the stock prices for 7 companies and `earnings_array` contains their earnings. \n",
    "\n",
    "2, Create a new array called `PE` which contains the PE (price to earnings) ratios for those companies. The PE ratio is calculated by dividing stock price by earnings. Print the new array, the expected output is:\n",
    "```\n",
    "[18.49130435 17.56873823 22.93775934 24.58544839 11.14202335 23.70517928\n",
    " 14.8011782 ]```    \n",
    "\n",
    "</div>"
   ]
  },
  {
   "cell_type": "code",
   "execution_count": 27,
   "metadata": {},
   "outputs": [
    {
     "name": "stdout",
     "output_type": "stream",
     "text": [
      "[18.49130435 17.56873823 22.93775934 24.58544839 11.14202335 23.70517928\n",
      " 14.8011782 ]\n"
     ]
    }
   ],
   "source": [
    "prices_array = np.array([170.12,  93.29,  55.28, 145.3 , 171.81,  59.5 , 100.5 ]) \n",
    "earnings_array = np.array([ 9.2 ,  5.31,  2.41,  5.91, 15.42,  2.51,  6.79])\n",
    "PE=prices_array /earnings_array\n",
    "print(PE)"
   ]
  },
  {
   "cell_type": "markdown",
   "metadata": {},
   "source": [
    "<div class=\"alert alert-warning\">\n",
    "<b>QUESTION 10:</b>\n",
    "    \n",
    "1, Define an array: `arr = np.arange(21).reshape(7,3)`\n",
    "\n",
    "2, Select out a subset of all even rows from `arr` and print it. The expected output is:\n",
    "```\n",
    "[[ 3  4  5]\n",
    " [ 9 10 11]\n",
    " [15 16 17]]```\n",
    "\n",
    "</div>"
   ]
  },
  {
   "cell_type": "code",
   "execution_count": 35,
   "metadata": {},
   "outputs": [
    {
     "name": "stdout",
     "output_type": "stream",
     "text": [
      "[[ 3  4  5]\n",
      " [ 9 10 11]\n",
      " [15 16 17]]\n"
     ]
    }
   ],
   "source": [
    "import numpy as np\n",
    "arr = np.arange(21).reshape(7,3)\n",
    "print(arr[[1, 3, 5,]])\n"
   ]
  },
  {
   "cell_type": "markdown",
   "metadata": {},
   "source": [
    "<div class=\"alert alert-warning\">\n",
    "<b>QUESTION 11:</b>\n",
    "    \n",
    "1, Define an array: `data_arr = np.array([[10,2,3],[1,3,3],[2,34,4],[5,4,3]])`\n",
    "\n",
    "2, For each row in the array, apply the following formula:\n",
    "    \n",
    "$x_{1}\\times2 + x_{2}\\times5 + x_{3}\\times3$\n",
    "    \n",
    "For instance, if you apply the formula to the first row, you will get 39 ($10\\times2 + 2\\times5 + 3\\times3$).\n",
    "\n",
    "3, A one-dimensional array will be created after applying the formula to each row. Print the new array, the expected output is:\n",
    "```\n",
    "[ 39  26 186  39]```\n",
    "</div>"
   ]
  },
  {
   "cell_type": "code",
   "execution_count": 41,
   "metadata": {},
   "outputs": [
    {
     "name": "stdout",
     "output_type": "stream",
     "text": [
      "[[10  2  3]\n",
      " [ 1  3  3]\n",
      " [ 2 34  4]\n",
      " [ 5  4  3]]\n",
      "[[20]\n",
      " [ 2]\n",
      " [ 4]\n",
      " [10]]\n"
     ]
    }
   ],
   "source": [
    "import numpy as np\n",
    "data_arr = np.array([[10,2,3],[1,3,3],[2,34,4],[5,4,3]])\n",
    "print(data_arr)\n",
    "data_arr=data_arr[:,:1]*2\n",
    "print(data_arr)"
   ]
  },
  {
   "cell_type": "markdown",
   "metadata": {},
   "source": [
    "<div class=\"alert alert-warning\">\n",
    "<b>QUESTION 12:</b>\n",
    "    \n",
    "1, Define an array: \n",
    "    \n",
    "```python\n",
    "arr2d = np.array([[ 2, 10,  8,  7],\n",
    "                  [20, 13,  5,  2],\n",
    "                  [17, 14,  1,  3],\n",
    "                  [ 9, 11, 17, 10],\n",
    "                  [ 5,  8,  2, 14]])```\n",
    "\n",
    "2, Sort the values in each column of `arr2d` in ascending order. Print the new array, the expected output is:\n",
    "```\n",
    "[[ 2  8  1  2]\n",
    " [ 5 10  2  3]\n",
    " [ 9 11  5  7]\n",
    " [17 13  8 10]\n",
    " [20 14 17 14]]```\n",
    "\n",
    "</div>"
   ]
  },
  {
   "cell_type": "code",
   "execution_count": 43,
   "metadata": {},
   "outputs": [
    {
     "name": "stdout",
     "output_type": "stream",
     "text": [
      "[[ 2  8  1  2]\n",
      " [ 5 10  2  3]\n",
      " [ 9 11  5  7]\n",
      " [17 13  8 10]\n",
      " [20 14 17 14]]\n"
     ]
    }
   ],
   "source": [
    "import numpy as np\n",
    "arr2d = np.array([[ 2, 10,  8,  7],\n",
    "                  [20, 13,  5,  2],\n",
    "                  [17, 14,  1,  3],\n",
    "                  [ 9, 11, 17, 10],\n",
    "                  [ 5,  8,  2, 14]])\n",
    "arr2d.sort(axis=0)\n",
    "print(arr2d)"
   ]
  },
  {
   "cell_type": "markdown",
   "metadata": {},
   "source": [
    "<div class=\"alert alert-warning\">\n",
    "<b>QUESTION 13:</b>\n",
    "    \n",
    "1, Define an array: `arr = np.arange(21).reshape(7,3)`\n",
    "\n",
    "2, Print the array below by indexing `arr`.\n",
    "\n",
    "```    \n",
    "[[ 7  8]\n",
    " [10 11]\n",
    " [13 14]]```\n",
    "\n",
    "</div>"
   ]
  },
  {
   "cell_type": "code",
   "execution_count": 46,
   "metadata": {},
   "outputs": [
    {
     "name": "stdout",
     "output_type": "stream",
     "text": [
      "[[ 7  8]\n",
      " [10 11]\n",
      " [13 14]]\n"
     ]
    }
   ],
   "source": [
    "arr = np.arange(21).reshape(7,3)\n",
    "print(arr[2:5,1:3])"
   ]
  },
  {
   "cell_type": "markdown",
   "metadata": {},
   "source": [
    "<div class=\"alert alert-warning\">\n",
    "<b>QUESTION 14:</b>\n",
    "    \n",
    "1, Define an array: `arr = np.arange(21).reshape(7,3)`\n",
    "\n",
    "2, Replace the odd numbers in `arr` with 1s. Print the new array, the expected output is:\n",
    "```\n",
    "[[ 0  1  2]\n",
    " [ 1  4  1]\n",
    " [ 6  1  8]\n",
    " [ 1 10  1]\n",
    " [12  1 14]\n",
    " [ 1 16  1]\n",
    " [18  1 20]]```\n",
    "</div>"
   ]
  },
  {
   "cell_type": "code",
   "execution_count": 47,
   "metadata": {},
   "outputs": [
    {
     "name": "stdout",
     "output_type": "stream",
     "text": [
      "[[ 0  1  2]\n",
      " [ 1  4  1]\n",
      " [ 6  1  8]\n",
      " [ 1 10  1]\n",
      " [12  1 14]\n",
      " [ 1 16  1]\n",
      " [18  1 20]]\n"
     ]
    }
   ],
   "source": [
    "arr = np.arange(21).reshape(7,3)\n",
    "arr[arr%2!=0] = 1\n",
    "print(arr)"
   ]
  },
  {
   "cell_type": "markdown",
   "metadata": {},
   "source": [
    "<div class=\"alert alert-warning\">\n",
    "<b>QUESTION 15:</b>\n",
    "    \n",
    "1, Define a string: `string_NY = 'You know New York, you need New York, you know you need unique New York.'`\n",
    "\n",
    "2, Write code to count the number of times `New York` occurs in the string `string_NY`. Print the result, the correct output is `3`.\n",
    "</div>"
   ]
  },
  {
   "cell_type": "code",
   "execution_count": 56,
   "metadata": {},
   "outputs": [
    {
     "name": "stdout",
     "output_type": "stream",
     "text": [
      "['You', 'know', 'New', 'York', 'you', 'need', 'New', 'York', 'you', 'know', 'you', 'need', 'unique', 'New', 'York']\n",
      "3\n"
     ]
    }
   ],
   "source": [
    "string_NY = 'You know New York, you need New York, you know you need unique New York'\n",
    "inital_list = string_NY.replace(',',' ').replace('.', ' ').split()\n",
    "print(inital_list)\n",
    "x=inital_list.count('New')\n",
    "print(x)\n"
   ]
  },
  {
   "cell_type": "markdown",
   "metadata": {},
   "source": [
    "<div class=\"alert alert-warning\">\n",
    "<b>QUESTION 16: </b> \n",
    "\n",
    "Create a $5\\times5$ array with 0's on the border and 1's inside (as shown below). Print the array.\n",
    "```\n",
    "[[0. 0. 0. 0. 0.]\n",
    " [0. 1. 1. 1. 0.]\n",
    " [0. 1. 1. 1. 0.]\n",
    " [0. 1. 1. 1. 0.]\n",
    " [0. 0. 0. 0. 0.]]   \n",
    "```\n",
    "</div>"
   ]
  },
  {
   "cell_type": "code",
   "execution_count": 57,
   "metadata": {},
   "outputs": [
    {
     "name": "stdout",
     "output_type": "stream",
     "text": [
      "[[0. 0. 0. 0. 0.]\n",
      " [0. 1. 1. 1. 0.]\n",
      " [0. 1. 1. 1. 0.]\n",
      " [0. 1. 1. 1. 0.]\n",
      " [0. 0. 0. 0. 0.]]\n"
     ]
    }
   ],
   "source": [
    "arr = np.zeros((5,5))\n",
    "arr[1:4,1:4] = 1\n",
    "print(arr)"
   ]
  },
  {
   "cell_type": "markdown",
   "metadata": {},
   "source": [
    "<div class=\"alert alert-warning\">\n",
    "<b>QUESTION 17: </b> \n",
    "\n",
    "1, Create a function called `divisible_by_9` using `lambda` statement which returns the argument divided by `9` if the number can be divided by `9` without a remainder. If the argument can't be divided by 9 without a remainder the function should return `0.0` (float number).\n",
    "    \n",
    "2, Define a list: `numbers = [9, 15, 18, 22, 27, 42]`\n",
    "\n",
    "3, Apply the function `divisible_by_9` to all the elements in list `numbers` using `map` function.\n",
    "\n",
    "4, Print the new list, the expected output is: `[1.0, 0.0, 2.0, 0.0, 3.0, 0.0]`\n",
    "</div>"
   ]
  },
  {
   "cell_type": "code",
   "execution_count": null,
   "metadata": {},
   "outputs": [],
   "source": [
    "def divisible_by_9(x):\n",
    "    if x\n",
    "    return x/9\n",
    "\n",
    "my_func(lambda x:2*x*x,5)"
   ]
  },
  {
   "cell_type": "markdown",
   "metadata": {},
   "source": [
    "<div class=\"alert alert-warning\">\n",
    "<b>QUESTION 18:</b>\n",
    "\n",
    "Define a function named `sum_arr` which takes an array with numbers as the argument. The funtion would calculate the sum of the elements in the array and print `The sum of the elements in the array is: ` followed by the result.\n",
    " \n",
    "If we call the function with array `np.array([[1,2,3],[4,5,6],[7,8,9]])`, it would print:\n",
    "\n",
    "`The sum of the elements in the array is: 45`"
   ]
  },
  {
   "cell_type": "code",
   "execution_count": 67,
   "metadata": {},
   "outputs": [
    {
     "data": {
      "text/plain": [
       "45"
      ]
     },
     "execution_count": 67,
     "metadata": {},
     "output_type": "execute_result"
    }
   ],
   "source": [
    "def sum_arr(x):\n",
    "    return sum(sum(x))\n",
    "sum_arr(np.array([[1,2,3],[4,5,6],[7,8,9]]))"
   ]
  },
  {
   "cell_type": "markdown",
   "metadata": {},
   "source": [
    "<div class=\"alert alert-warning\">\n",
    "<b>QUESTION 19: </b> \n",
    "    \n",
    "Define a list: `list_num = [1, 3, 5, 6, 8]`\n",
    "\n",
    "Sort the list by the ascending order of the absolute difference between the element and the number `5`. Print the new list, the expected output is:\n",
    "\n",
    "`[5, 6, 3, 8, 1]`\n",
    "</div>"
   ]
  },
  {
   "cell_type": "code",
   "execution_count": 71,
   "metadata": {},
   "outputs": [
    {
     "ename": "TypeError",
     "evalue": "sort() takes no positional arguments",
     "output_type": "error",
     "traceback": [
      "\u001b[0;31m---------------------------------------------------------------------------\u001b[0m",
      "\u001b[0;31mTypeError\u001b[0m                                 Traceback (most recent call last)",
      "\u001b[0;32m<ipython-input-71-0e470596900e>\u001b[0m in \u001b[0;36m<module>\u001b[0;34m()\u001b[0m\n\u001b[1;32m      1\u001b[0m \u001b[0mlist_num\u001b[0m \u001b[0;34m=\u001b[0m \u001b[0;34m[\u001b[0m\u001b[0;36m1\u001b[0m\u001b[0;34m,\u001b[0m \u001b[0;36m3\u001b[0m\u001b[0;34m,\u001b[0m \u001b[0;36m5\u001b[0m\u001b[0;34m,\u001b[0m \u001b[0;36m6\u001b[0m\u001b[0;34m,\u001b[0m \u001b[0;36m8\u001b[0m\u001b[0;34m]\u001b[0m\u001b[0;34m\u001b[0m\u001b[0m\n\u001b[0;32m----> 2\u001b[0;31m \u001b[0mresult\u001b[0m\u001b[0;34m.\u001b[0m\u001b[0msort\u001b[0m\u001b[0;34m(\u001b[0m\u001b[0mabs\u001b[0m\u001b[0;34m(\u001b[0m\u001b[0mx\u001b[0m\u001b[0;34m-\u001b[0m\u001b[0;36m5\u001b[0m\u001b[0;34m)\u001b[0m\u001b[0;34m)\u001b[0m\u001b[0;34m\u001b[0m\u001b[0m\n\u001b[0m\u001b[1;32m      3\u001b[0m \u001b[0mprint\u001b[0m\u001b[0;34m(\u001b[0m\u001b[0mresult\u001b[0m\u001b[0;34m)\u001b[0m\u001b[0;34m\u001b[0m\u001b[0m\n",
      "\u001b[0;31mTypeError\u001b[0m: sort() takes no positional arguments"
     ]
    }
   ],
   "source": [
    "list_num = [1, 3, 5, 6, 8]\n",
    "result.sort(abs(x-5))\n",
    "print(result)"
   ]
  },
  {
   "cell_type": "markdown",
   "metadata": {},
   "source": [
    "<div class=\"alert alert-warning\">\n",
    "<b>QUESTION 20: </b> \n",
    "\n",
    "Define a dictionary: \n",
    "    \n",
    "`Shares = {'James':2359, 'Robert':4032, 'Nicolas':1020, 'Louis':2500, 'Bernard': 5538, 'Logan':1330}`\n",
    "\n",
    "For the dictionary keys end with letter `s`, update the corresponding dictionary values to `2020`. Print the updated dictionary, the expected output would be:\n",
    "\n",
    "`{'James': 2020, 'Robert': 4032, 'Nicolas': 2020, 'Louis': 2020, 'Bernard': 5538, 'Logan': 1330}`\n",
    "</div>"
   ]
  },
  {
   "cell_type": "code",
   "execution_count": 68,
   "metadata": {},
   "outputs": [
    {
     "ename": "ValueError",
     "evalue": "too many values to unpack (expected 2)",
     "output_type": "error",
     "traceback": [
      "\u001b[0;31m---------------------------------------------------------------------------\u001b[0m",
      "\u001b[0;31mValueError\u001b[0m                                Traceback (most recent call last)",
      "\u001b[0;32m<ipython-input-68-0abe5263f229>\u001b[0m in \u001b[0;36m<module>\u001b[0;34m()\u001b[0m\n\u001b[1;32m      1\u001b[0m \u001b[0mShares\u001b[0m \u001b[0;34m=\u001b[0m \u001b[0;34m{\u001b[0m\u001b[0;34m'James'\u001b[0m\u001b[0;34m:\u001b[0m\u001b[0;36m2359\u001b[0m\u001b[0;34m,\u001b[0m \u001b[0;34m'Robert'\u001b[0m\u001b[0;34m:\u001b[0m\u001b[0;36m4032\u001b[0m\u001b[0;34m,\u001b[0m \u001b[0;34m'Nicolas'\u001b[0m\u001b[0;34m:\u001b[0m\u001b[0;36m1020\u001b[0m\u001b[0;34m,\u001b[0m \u001b[0;34m'Louis'\u001b[0m\u001b[0;34m:\u001b[0m\u001b[0;36m2500\u001b[0m\u001b[0;34m,\u001b[0m \u001b[0;34m'Bernard'\u001b[0m\u001b[0;34m:\u001b[0m \u001b[0;36m5538\u001b[0m\u001b[0;34m,\u001b[0m \u001b[0;34m'Logan'\u001b[0m\u001b[0;34m:\u001b[0m\u001b[0;36m1330\u001b[0m\u001b[0;34m}\u001b[0m\u001b[0;34m\u001b[0m\u001b[0m\n\u001b[0;32m----> 2\u001b[0;31m \u001b[0;32mfor\u001b[0m \u001b[0mindex\u001b[0m\u001b[0;34m,\u001b[0m\u001b[0mvalue\u001b[0m \u001b[0;32min\u001b[0m \u001b[0mShares\u001b[0m\u001b[0;34m:\u001b[0m\u001b[0;34m\u001b[0m\u001b[0m\n\u001b[0m\u001b[1;32m      3\u001b[0m     \u001b[0;32mif\u001b[0m \u001b[0ms\u001b[0m \u001b[0;32min\u001b[0m \u001b[0mindex\u001b[0m\u001b[0;34m:\u001b[0m\u001b[0;34m\u001b[0m\u001b[0m\n\u001b[1;32m      4\u001b[0m         \u001b[0mvalue\u001b[0m\u001b[0;34m=\u001b[0m\u001b[0;36m2020\u001b[0m\u001b[0;34m\u001b[0m\u001b[0m\n\u001b[1;32m      5\u001b[0m \u001b[0mprint\u001b[0m\u001b[0;34m(\u001b[0m\u001b[0mShares\u001b[0m\u001b[0;34m)\u001b[0m\u001b[0;34m\u001b[0m\u001b[0m\n",
      "\u001b[0;31mValueError\u001b[0m: too many values to unpack (expected 2)"
     ]
    }
   ],
   "source": [
    "Shares = {'James':2359, 'Robert':4032, 'Nicolas':1020, 'Louis':2500, 'Bernard': 5538, 'Logan':1330}\n",
    "for index,value in Shares:\n",
    "    if s in index:\n",
    "        value=2020\n",
    "print(Shares)\n",
    "    "
   ]
  },
  {
   "cell_type": "code",
   "execution_count": null,
   "metadata": {},
   "outputs": [],
   "source": []
  }
 ],
 "metadata": {
  "kernelspec": {
   "display_name": "Python 3",
   "language": "python",
   "name": "python3"
  },
  "language_info": {
   "codemirror_mode": {
    "name": "ipython",
    "version": 3
   },
   "file_extension": ".py",
   "mimetype": "text/x-python",
   "name": "python",
   "nbconvert_exporter": "python",
   "pygments_lexer": "ipython3",
   "version": "3.7.0"
  }
 },
 "nbformat": 4,
 "nbformat_minor": 2
}
